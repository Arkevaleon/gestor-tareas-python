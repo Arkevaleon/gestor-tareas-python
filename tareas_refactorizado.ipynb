{
  "nbformat": 4,
  "nbformat_minor": 0,
  "metadata": {
    "colab": {
      "provenance": [],
      "authorship_tag": "ABX9TyO403X78o1cbg3IrSvTO1Qm",
      "include_colab_link": true
    },
    "kernelspec": {
      "name": "python3",
      "display_name": "Python 3"
    },
    "language_info": {
      "name": "python"
    }
  },
  "cells": [
    {
      "cell_type": "markdown",
      "metadata": {
        "id": "view-in-github",
        "colab_type": "text"
      },
      "source": [
        "<a href=\"https://colab.research.google.com/github/Arkevaleon/gestor-tareas-python/blob/main/tareas_refactorizado.ipynb\" target=\"_parent\"><img src=\"https://colab.research.google.com/assets/colab-badge.svg\" alt=\"Open In Colab\"/></a>"
      ]
    },
    {
      "cell_type": "code",
      "source": [
        "tareas = []\n",
        "\n",
        "def mostrar_menu():\n",
        "    print(\"1. Añadir tarea\")\n",
        "    print(\"2. Ver tareas\")\n",
        "    print(\"3. Eliminar tarea\")\n",
        "    print(\"4. Salir\")\n",
        "\n",
        "def añadir_tarea():\n",
        "    tarea = input(\"Ingrese una tarea: \")\n",
        "    tareas.append(tarea)\n",
        "    print(\"Tarea añadida.\")\n",
        "\n",
        "def ver_tareas():\n",
        "    if not tareas:\n",
        "        print(\"No hay tareas.\")\n",
        "    for i, tarea in enumerate(tareas):\n",
        "        print(f\"{i}: {tarea}\")\n",
        "\n",
        "def eliminar_tarea():\n",
        "    ver_tareas()\n",
        "    try:\n",
        "        index = int(input(\"Índice a eliminar: \"))\n",
        "        tareas.pop(index)\n",
        "        print(\"Tarea eliminada.\")\n",
        "    except (ValueError, IndexError):\n",
        "        print(\"Índice no válido.\")\n",
        "\n",
        "def main():\n",
        "    while True:\n",
        "        mostrar_menu()\n",
        "        opcion = input(\"Seleccione una opción: \")\n",
        "        if opcion == \"1\":\n",
        "            añadir_tarea()\n",
        "        elif opcion == \"2\":\n",
        "            ver_tareas()\n",
        "        elif opcion == \"3\":\n",
        "            eliminar_tarea()\n",
        "        elif opcion == \"4\":\n",
        "            break\n",
        "        else:\n",
        "            print(\"Opción inválida.\")\n",
        "\n",
        "if __name__ == \"__main__\":\n",
        "    main()\n"
      ],
      "metadata": {
        "colab": {
          "base_uri": "https://localhost:8080/"
        },
        "id": "qULzdmHjMMHV",
        "outputId": "86fccb52-0268-4676-c893-713c4dad6f8b"
      },
      "execution_count": null,
      "outputs": [
        {
          "output_type": "stream",
          "name": "stdout",
          "text": [
            "1. Añadir tarea\n",
            "2. Ver tareas\n",
            "3. Eliminar tarea\n",
            "4. Salir\n",
            "Seleccione una opción: 1\n",
            "Ingrese una tarea: Listar\n",
            "Tarea añadida.\n",
            "1. Añadir tarea\n",
            "2. Ver tareas\n",
            "3. Eliminar tarea\n",
            "4. Salir\n",
            "Seleccione una opción: 2\n",
            "0: Listar\n",
            "1. Añadir tarea\n",
            "2. Ver tareas\n",
            "3. Eliminar tarea\n",
            "4. Salir\n"
          ]
        }
      ]
    }
  ]
}